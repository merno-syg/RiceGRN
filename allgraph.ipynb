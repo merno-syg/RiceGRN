{
 "cells": [
  {
   "cell_type": "code",
   "execution_count": 2,
   "metadata": {},
   "outputs": [],
   "source": [
    "import os\n",
    "import os.path as osp\n",
    "import sys\n",
    "import torch\n",
    "import pandas as pd\n",
    "import numpy as np\n",
    "import networkx as nx\n",
    "import matplotlib.pyplot as plt\n",
    "import matplotlib\n",
    "import random\n",
    "import math\n",
    "import pickle\n",
    "import json\n",
    "import time\n",
    "import re\n",
    "import pickle\n",
    "from Bio import SeqIO\n",
    "from tqdm import tqdm\n",
    "%matplotlib inline\n",
    "import sklearn.metrics as metrics\n",
    "from torch_geometric.nn import MessagePassing, SAGEConv\n",
    "from torch import nn\n",
    "from scipy.stats import norm\n",
    "from networkx.algorithms import bipartite\n",
    "from tqdm import tqdm\n",
    "from transformers import AutoModel, AutoTokenizer, AutoModelForSequenceClassification"
   ]
  },
  {
   "cell_type": "code",
   "execution_count": 3,
   "metadata": {},
   "outputs": [],
   "source": [
    "root_dir = '/mnt/data2024/hrren/Settle_code'\n",
    "df = pd.read_csv(osp.join(root_dir, 'AAAAAFillfinalmatrix.csv'))"
   ]
  },
  {
   "cell_type": "code",
   "execution_count": 7,
   "metadata": {},
   "outputs": [
    {
     "data": {
      "text/plain": [
       "262"
      ]
     },
     "execution_count": 7,
     "metadata": {},
     "output_type": "execute_result"
    }
   ],
   "source": [
    "pos = df[df['Label'] == 1]\n",
    "tf_target_genes = set(pos['TF']).union(set(pos['Target']))\n",
    "label_0_rows = df[df['Label'] == 0]\n",
    "neg = label_0_rows[label_0_rows['TF'].isin(tf_target_genes) | label_0_rows['Target'].isin(tf_target_genes)]\n",
    "unique_TF = pos['TF'].nunique()\n",
    "unique_genes = pos['Target'].nunique()\n",
    "unique_TF\n"
   ]
  },
  {
   "cell_type": "code",
   "execution_count": 8,
   "metadata": {},
   "outputs": [],
   "source": [
    "# 先采样一个三比一的数据集\n",
    "pos_indices = pos.index.tolist()\n",
    "neg_indices = neg.index.tolist()\n",
    "len(neg_indices),len(pos_indices)\n",
    "ratio = 100\n",
    "number = len(pos_indices)*ratio\n",
    "neg_sampled = random.sample(neg_indices,number)\n",
    "selected_label_1_data = df.loc[pos_indices]\n",
    "selected_label_0_data = df.loc[neg_sampled]\n",
    "df2 = pd.concat([selected_label_1_data, selected_label_0_data])"
   ]
  },
  {
   "cell_type": "code",
   "execution_count": 9,
   "metadata": {},
   "outputs": [],
   "source": [
    "df2 = pd.concat([pos, neg])\n",
    "length_ok = [ind for ind, s in enumerate(df2['Target_promoter'].tolist()) if len(s) == 2500]\n",
    "df2 = df2.iloc[length_ok]"
   ]
  },
  {
   "cell_type": "code",
   "execution_count": 12,
   "metadata": {},
   "outputs": [],
   "source": [
    "class VocabForKmer():\n",
    "    def __init__(self, kmer=6, reserved_tokens=None):\n",
    "        from itertools import product\n",
    "        self.kmer = kmer\n",
    "        kmer_iter = product('ACGT', repeat=kmer)\n",
    "        words = [''.join(i) for i in kmer_iter]\n",
    "\n",
    "        if reserved_tokens is None:\n",
    "            reserved_tokens = []\n",
    "        self.idx_to_token = ['<unk>'] + reserved_tokens + words\n",
    "        self.token_to_idx = {token: idx for idx, token in enumerate(self.idx_to_token)}\n",
    "        \n",
    "    def __len__(self):\n",
    "        return len(self.idx_to_token)\n",
    "        \n",
    "    def __getitem__(self, tokens):\n",
    "        if not isinstance(tokens, (list, tuple)):\n",
    "            return self.token_to_idx.get(tokens, self.unk)\n",
    "        return [self.__getitem__(token) for token in tokens]\n",
    "\n",
    "    def to_tokens(self, indices):\n",
    "        if not isinstance(indices, (list, tuple)):\n",
    "            return self.idx_to_token[indices]\n",
    "        return [self.idx_to_token[index] for index in indices]\n",
    "    \n",
    "    @property\n",
    "    def unk(self):  # 未知词元的索引为0\n",
    "        return 0\n",
    "class BERTEncoder(nn.Module):\n",
    "    def __init__(self, vocab_size, d_model, n_head, dim_feedforward=1024, dropout=0.1, \n",
    "                 num_layers=12, max_len=512, activation='relu', norm_first=False, \n",
    "                 discard_segment=False, **kwargs):\n",
    "        super(BERTEncoder, self).__init__(**kwargs)\n",
    "        self.discard_segment = discard_segment\n",
    "        self.max_len = max_len\n",
    "        self.token_embedding = nn.Embedding(vocab_size, d_model)\n",
    "        self.segment_embedding = nn.Embedding(2, d_model) if not self.discard_segment else None\n",
    "        self.position_embedding = nn.Embedding(max_len, d_model)\n",
    "        self.tfencoders = nn.Sequential()\n",
    "        for i in range(num_layers):\n",
    "            self.tfencoders.add_module(f'layer_{i}', nn.TransformerEncoderLayer(d_model=d_model, \n",
    "                                                                                nhead=n_head,\n",
    "                                                                                dim_feedforward=dim_feedforward,\n",
    "                                                                                dropout=dropout,\n",
    "                                                                                activation=activation,\n",
    "                                                                                norm_first=norm_first,\n",
    "                                                                                batch_first=True))\n",
    "\n",
    "    def forward(self, tokens, segments=None, token_key_padding_mask=None):\n",
    "\n",
    "        X = self.token_embedding(tokens)\n",
    "        if not self.discard_segment and segments is not None:\n",
    "            X = X + self.segment_embedding(segments)\n",
    "        X = X + self.position_embedding(torch.arange(self.max_len, dtype=torch.long).to(torch.device(X.device))).unsqueeze(0)\n",
    "        for blk in self.tfencoders:\n",
    "            if token_key_padding_mask is not None:\n",
    "                X = blk(X, src_key_padding_mask=token_key_padding_mask)\n",
    "            else:\n",
    "                X = blk(X)\n",
    "        return X\n",
    "\n",
    "\n",
    "class MaskedLM(nn.Module):\n",
    "\n",
    "    def __init__(self, vocab_size, num_hiddens=768, num_inputs=768, activation='relu', **kwargs):\n",
    "        super(MaskedLM, self).__init__(**kwargs)\n",
    "        self.fc1 = nn.Linear(num_inputs, num_hiddens)\n",
    "        self.activation = nn.ReLU() if activation == 'relu' else nn.GELU()\n",
    "        self.fc2 = nn.Linear(num_hiddens, vocab_size)                \n",
    "\n",
    "    def forward(self, X, pred_positions): \n",
    "        num_pred_positions = pred_positions.shape[1]\n",
    "        # print('1', num_pred_positions)\n",
    "        pred_positions = pred_positions.reshape(-1)\n",
    "        # print('2', pred_positions.shape)\n",
    "        batch_size = X.shape[0]\n",
    "        # print('3', batch_size)\n",
    "        batch_idx = torch.arange(0, batch_size)\n",
    "        # print('4', batch_idx.shape)\n",
    "        batch_idx = torch.repeat_interleave(batch_idx, num_pred_positions)\n",
    "        # print('5', batch_idx.shape)\n",
    "        masked_X = X[batch_idx, pred_positions]\n",
    "        # print('6', masked_X.shape)\n",
    "        masked_X = masked_X.reshape((batch_size, num_pred_positions, -1))\n",
    "        # print('7', masked_X.shape)\n",
    "        # mlm_Y_hat = self.mlp(masked_X)\n",
    "        mlm_Y_hat = self.fc2(self.activation(self.fc1(masked_X)))\n",
    "        return mlm_Y_hat\n",
    "\n",
    "\n",
    "class BERTModel(nn.Module):\n",
    "    def __init__(self, vocab_size, d_model, n_head, dim_feedforward=1024, dropout=0.1, \n",
    "                 num_layers=12, max_len=512, activation='relu', norm_first=False, \n",
    "                 discard_segment=False, dim_mlm_hidden=768, **kwargs):\n",
    "        super(BERTModel, self).__init__(**kwargs)\n",
    "        self.tfencoder = BERTEncoder(vocab_size=vocab_size, d_model=d_model, n_head=n_head, \n",
    "                 dim_feedforward=dim_feedforward, dropout=dropout, num_layers=num_layers, \n",
    "                 max_len=max_len, activation=activation, norm_first=norm_first, \n",
    "                 discard_segment=discard_segment)\n",
    "        self.mlm = MaskedLM(vocab_size=vocab_size, num_hiddens=dim_mlm_hidden, \n",
    "                            num_inputs=d_model, activation=activation)\n",
    "        self._init_weight()\n",
    "        # fc2 is shared with embedding layer\n",
    "        self.mlm.fc2.weight = self.tfencoder.token_embedding.weight\n",
    "\n",
    "    def forward(self, tokens, segments=None, token_key_padding_mask=None, pred_positions=None):\n",
    "        tfencoder_X = self.tfencoder(tokens, segments, token_key_padding_mask)\n",
    "        mlm_Y_hat = self.mlm(tfencoder_X, pred_positions)\n",
    "        return mlm_Y_hat\n",
    "    \n",
    "    def get_emb(self, tokens, segments=None, token_key_padding_mask=None):\n",
    "        tfencoder_X = self.tfencoder(tokens, segments, token_key_padding_mask)\n",
    "        return tfencoder_X\n",
    "\n",
    "    def _init_weight(self):\n",
    "        for m in self.modules():\n",
    "            if isinstance(m, nn.Linear):\n",
    "                nn.init.normal_(m.weight, mean=0, std=0.02)\n",
    "                if m.bias is not None:\n",
    "                    nn.init.constant_(m.bias, 0.0)\n",
    "            elif isinstance(m, nn.Embedding):\n",
    "                nn.init.normal_(m.weight, mean=0, std=0.02)\n",
    "            elif isinstance(m, nn.LayerNorm):\n",
    "                nn.init.constant_(m.weight, 1.0)\n",
    "                nn.init.constant_(m.bias, 0.0)"
   ]
  },
  {
   "cell_type": "code",
   "execution_count": 13,
   "metadata": {},
   "outputs": [
    {
     "name": "stdout",
     "output_type": "stream",
     "text": [
      "{'[PAD]': 0, '[UNK]': 1, '[CLS]': 2, '[SEP]': 3, '[MASK]': 4, 'L': 5, 'A': 6, 'G': 7, 'V': 8, 'E': 9, 'S': 10, 'I': 11, 'K': 12, 'R': 13, 'D': 14, 'T': 15, 'P': 16, 'N': 17, 'Q': 18, 'F': 19, 'Y': 20, 'M': 21, 'H': 22, 'C': 23, 'W': 24, 'X': 25, 'U': 26, 'B': 27, 'Z': 28, 'O': 29}\n"
     ]
    },
    {
     "data": {
      "text/plain": [
       "4101"
      ]
     },
     "execution_count": 13,
     "metadata": {},
     "output_type": "execute_result"
    }
   ],
   "source": [
    "pretrained_model = '/mnt/data2024/hrren/Settle_code/prot_bert_model'\n",
    "# BERT_encoder = AutoModel.from_pretrained(pretrained_model, local_files_only=True, output_attentions=False).to(device)\n",
    "pep_tokenizer = AutoTokenizer.from_pretrained(pretrained_model, do_lower_case=False, use_fast=False) \n",
    "print(pep_tokenizer.get_vocab()), len(pep_tokenizer.get_vocab())\n",
    "gpu = 2\n",
    "device = torch.device(f'cuda:{gpu}' if torch.cuda.is_available() else 'cpu')\n",
    "KMER_SIZE = 6\n",
    "MAX_LEN = 2000\n",
    "vocab = VocabForKmer(kmer=KMER_SIZE, reserved_tokens=['<pad>', '<mask>', '<cls>', '<sep>'])\n",
    "len(vocab)"
   ]
  },
  {
   "cell_type": "code",
   "execution_count": 14,
   "metadata": {},
   "outputs": [
    {
     "name": "stdout",
     "output_type": "stream",
     "text": [
      "Test TF 186 for 32454 interactions\n",
      "Train TF 1679 for 312875 interactions\n"
     ]
    }
   ],
   "source": [
    "test_ratio = 0.1\n",
    "TF_set = df2['TF'].unique().tolist()\n",
    "target_set = df2['Target'].unique().tolist()\n",
    "target_set = list(set(target_set)-set(TF_set))\n",
    "test_TF = random.sample(TF_set, int(len(TF_set)*test_ratio))\n",
    "print(f\"Test TF {len(test_TF)} for {len(df2[df2['TF'].isin(test_TF)])} interactions\")\n",
    "train_TF = list(set(TF_set)-set(test_TF))\n",
    "print(f\"Train TF {len(train_TF)} for {len(df2[df2['TF'].isin(train_TF)])} interactions\")\n",
    "bool_list = []\n",
    "for ind, row in df2.iterrows():\n",
    "    if row.iloc[0] in train_TF:\n",
    "        bool_list.append(True)\n",
    "    else:\n",
    "        assert row.iloc[0] in test_TF\n",
    "        bool_list.append(False)\n",
    "df2.loc[:, ['training']] = bool_list"
   ]
  },
  {
   "cell_type": "code",
   "execution_count": 15,
   "metadata": {},
   "outputs": [
    {
     "data": {
      "text/plain": [
       "(1865, 30787)"
      ]
     },
     "execution_count": 15,
     "metadata": {},
     "output_type": "execute_result"
    }
   ],
   "source": [
    "node_tf_ID = df2['TF'].unique().tolist()\n",
    "TFnode_2_ID_dict = {node:ind for ind, node in enumerate(node_tf_ID)}\n",
    "json_TFnode_map = osp.join('TF_node_mapping_dict.pkl')\n",
    "json.dump(TFnode_2_ID_dict, open(json_TFnode_map, 'w'), indent=4, sort_keys=False, ensure_ascii=False)\n",
    "node_target_ID = df2['Target'].unique().tolist()\n",
    "target_node_2_ID_dict  = {node:ind for ind, node in enumerate(node_target_ID)}\n",
    "json_targetnode_map = osp.join('target_node_mapping_dict.pkl')\n",
    "json.dump(target_node_2_ID_dict, open(json_targetnode_map, 'w'), indent=4, sort_keys=False, ensure_ascii=False)\n",
    "len(TFnode_2_ID_dict), len(target_node_2_ID_dict)"
   ]
  },
  {
   "cell_type": "code",
   "execution_count": 16,
   "metadata": {},
   "outputs": [
    {
     "name": "stderr",
     "output_type": "stream",
     "text": [
      "100%|██████████| 1865/1865 [01:58<00:00, 15.75it/s]\n"
     ]
    }
   ],
   "source": [
    "MAX_LEN = 2500\n",
    "TF_token_dict = {}\n",
    "TF_token_mask_dict = {}\n",
    "for node in tqdm(node_tf_ID):\n",
    "    node_type_column = 'TF'\n",
    "    seq_column = 'TF_pep'\n",
    "    seq = df[df[node_type_column]==node][seq_column].unique()[0]\n",
    "    encoded =pep_tokenizer(' '.join(seq),add_special_tokens=True,padding='max_length', return_token_type_ids=False, truncation=True, max_length=1000, return_tensors='np')\n",
    "    token = encoded['input_ids']\n",
    "    attention_mask = encoded['attention_mask']\n",
    "    token_key_padding_mask = torch.tensor([False] * len(seq) + [True] * (MAX_LEN - len(seq)), dtype=torch.bool).to(device).unsqueeze(0)\n",
    "    token = np.array(token)\n",
    "    TF_token_dict[node] = token\n",
    "    TF_token_mask_dict[node] = token_key_padding_mask"
   ]
  },
  {
   "cell_type": "code",
   "execution_count": 17,
   "metadata": {},
   "outputs": [],
   "source": [
    "def seq2kmer(seq, kmer=6):\n",
    "    '''kmer_seq is `seqlen - kmer_size + 1`'''\n",
    "    kmers = []\n",
    "    for ind in range(len(seq)):\n",
    "        if ind+kmer > len(seq):\n",
    "            break\n",
    "        k = seq[ind:ind+kmer]\n",
    "        kmers.append(''.join(k))\n",
    "    return kmers"
   ]
  },
  {
   "cell_type": "code",
   "execution_count": 18,
   "metadata": {},
   "outputs": [
    {
     "name": "stderr",
     "output_type": "stream",
     "text": [
      "100%|██████████| 30787/30787 [32:20<00:00, 15.86it/s]\n"
     ]
    }
   ],
   "source": [
    "target_token_dict = {}\n",
    "target_token_mask_dict = {}\n",
    "for node in tqdm(node_target_ID):\n",
    "    node_type_column = 'Target'\n",
    "    seq_column = 'Target_promoter'\n",
    "    seq = df[df[node_type_column]==node][seq_column].unique()[0]\n",
    "    kmer_seq = seq2kmer(seq, KMER_SIZE)\n",
    "    tokens = kmer_seq\n",
    "    tokens = np.array(vocab[tokens] + [vocab['<pad>']] * (2500 -len(tokens)))\n",
    "    token_key_padding_mask = np.array([False] * len(kmer_seq) + [True] * (MAX_LEN - len(kmer_seq)))\n",
    "    target_token_dict[node] = tokens\n",
    "    target_token_mask_dict[node] = token_key_padding_mask\n",
    "# with open('token_dict.pkl', 'rb') as f:\n",
    "#     target_token_dict = pickle.load(f)\n",
    "#     target_token_mask_dict = pickle.load(f)"
   ]
  },
  {
   "cell_type": "code",
   "execution_count": 19,
   "metadata": {},
   "outputs": [
    {
     "name": "stderr",
     "output_type": "stream",
     "text": [
      "/tmp/ipykernel_2380654/1332257005.py:20: UserWarning: Creating a tensor from a list of numpy.ndarrays is extremely slow. Please consider converting the list to a single numpy.ndarray with numpy.array() before converting to a tensor. (Triggered internally at ../torch/csrc/utils/tensor_new.cpp:278.)\n",
      "  node_left = torch.tensor(node_left, dtype=torch.float32).to(device)\n"
     ]
    },
    {
     "data": {
      "text/plain": [
       "(1865, 30787)"
      ]
     },
     "execution_count": 19,
     "metadata": {},
     "output_type": "execute_result"
    }
   ],
   "source": [
    "# 生成节点的张量；节点token，布尔值，掩码\n",
    "def tokenizer(nodedict, train_TF, token_dict, token_mask_dict):\n",
    "    node_token = []\n",
    "    node_bool = []\n",
    "    node_mask = []\n",
    "    for node, ID in nodedict.items():\n",
    "        node_token.append(token_dict[node])\n",
    "        if isinstance(token_mask_dict[node], torch.Tensor):\n",
    "            node_mask.append(token_mask_dict[node].squeeze().cpu().numpy())\n",
    "        else:\n",
    "            node_mask.append(token_mask_dict[node].squeeze())\n",
    "        if node in train_TF:\n",
    "            training = True\n",
    "        else:\n",
    "            training = False\n",
    "        node_bool.append(training)\n",
    "    return node_token, node_bool, node_mask\n",
    "node_left, node_left_bool, node_left_mask = tokenizer(TFnode_2_ID_dict, train_TF, TF_token_dict, TF_token_mask_dict)\n",
    "node_right, node_right_bool, node_right_mask = tokenizer(target_node_2_ID_dict, train_TF, target_token_dict, target_token_mask_dict)\n",
    "node_left = torch.tensor(node_left, dtype=torch.float32).to(device)\n",
    "node_left_bool = torch.tensor(node_left_bool, dtype=torch.float32).to(device)\n",
    "node_left_mask  = torch.tensor(node_left_mask, dtype=torch.float32).to(device)\n",
    "node_right = torch.tensor(node_right, dtype=torch.float32).to(device)\n",
    "node_right_bool = torch.tensor(node_right_bool, dtype=torch.float32).to(device)\n",
    "node_right_mask  = torch.tensor(node_right_mask, dtype=torch.float32).to(device)\n",
    "len(node_left), len(node_right)"
   ]
  },
  {
   "cell_type": "code",
   "execution_count": 20,
   "metadata": {},
   "outputs": [
    {
     "name": "stderr",
     "output_type": "stream",
     "text": [
      "345329it [00:12, 26852.79it/s]\n"
     ]
    }
   ],
   "source": [
    "edgelist = []\n",
    "for data in tqdm(df2.iterrows()):\n",
    "    data = data[-1]\n",
    "    TF = TFnode_2_ID_dict[data['TF']]\n",
    "    Target = target_node_2_ID_dict[data['Target']]\n",
    "    edgelist.append([TF, Target])\n",
    "edgelist = np.array(edgelist)\n",
    "edge_label = df2['Label'].to_numpy()\n",
    "edge_bool = np.array(df2['training'].to_numpy(), dtype=np.bool_)\n",
    "edge_index = torch.tensor(edgelist, dtype=torch.long).t().to(device)\n",
    "edge_label = torch.tensor(edge_label, dtype=torch.float).to(device)\n",
    "edge_bool = torch.tensor(edge_bool, dtype=torch.bool).to(device)\n",
    "edge_attr = torch.tensor(df2.loc[:, ['Edge_attr0', 'Edge_attr2', 'Edge_attr3', 'Edge_attr4',\n",
    "    'Edge_attr5', 'Edge_attr7', 'Edge_attr8', 'Edge_attr9',\n",
    "    'Edge_attr10', 'Edge_attr11', 'Edge_attr12', 'Edge_attr13', 'Edge_attr14',\n",
    "    'Edge_attr15', 'Edge_attr16', 'Edge_attr17', 'Edge_attr18', 'Edge_attr19',\n",
    "    'Edge_attr20', 'GENIE3', 'ATAC',\n",
    "    'PWM', 'Chip', 'cPWM']].to_numpy(), dtype=torch.float).to(device)"
   ]
  },
  {
   "cell_type": "code",
   "execution_count": 21,
   "metadata": {},
   "outputs": [
    {
     "name": "stderr",
     "output_type": "stream",
     "text": [
      "/tmp/ipykernel_2380654/1855557197.py:1: UserWarning: To copy construct from a tensor, it is recommended to use sourceTensor.clone().detach() or sourceTensor.clone().detach().requires_grad_(True), rather than torch.tensor(sourceTensor).\n",
      "  node_left = torch.tensor(node_left, dtype=torch.float32).to(device)\n",
      "/tmp/ipykernel_2380654/1855557197.py:2: UserWarning: To copy construct from a tensor, it is recommended to use sourceTensor.clone().detach() or sourceTensor.clone().detach().requires_grad_(True), rather than torch.tensor(sourceTensor).\n",
      "  node_left_bool = torch.tensor(node_left_bool, dtype=torch.float32).to(device)\n",
      "/tmp/ipykernel_2380654/1855557197.py:3: UserWarning: To copy construct from a tensor, it is recommended to use sourceTensor.clone().detach() or sourceTensor.clone().detach().requires_grad_(True), rather than torch.tensor(sourceTensor).\n",
      "  node_left_mask  = torch.tensor(node_left_mask, dtype=torch.float32).to(device)\n",
      "/tmp/ipykernel_2380654/1855557197.py:4: UserWarning: To copy construct from a tensor, it is recommended to use sourceTensor.clone().detach() or sourceTensor.clone().detach().requires_grad_(True), rather than torch.tensor(sourceTensor).\n",
      "  node_right = torch.tensor(node_right, dtype=torch.float32).to(device)\n",
      "/tmp/ipykernel_2380654/1855557197.py:5: UserWarning: To copy construct from a tensor, it is recommended to use sourceTensor.clone().detach() or sourceTensor.clone().detach().requires_grad_(True), rather than torch.tensor(sourceTensor).\n",
      "  node_right_bool = torch.tensor(node_right_bool, dtype=torch.float32).to(device)\n",
      "/tmp/ipykernel_2380654/1855557197.py:6: UserWarning: To copy construct from a tensor, it is recommended to use sourceTensor.clone().detach() or sourceTensor.clone().detach().requires_grad_(True), rather than torch.tensor(sourceTensor).\n",
      "  node_right_mask  = torch.tensor(node_right_mask, dtype=torch.float32).to(device)\n",
      "/tmp/ipykernel_2380654/1855557197.py:7: UserWarning: To copy construct from a tensor, it is recommended to use sourceTensor.clone().detach() or sourceTensor.clone().detach().requires_grad_(True), rather than torch.tensor(sourceTensor).\n",
      "  edge_index = torch.tensor(edge_index, dtype=torch.long).to(device)\n",
      "/tmp/ipykernel_2380654/1855557197.py:8: UserWarning: To copy construct from a tensor, it is recommended to use sourceTensor.clone().detach() or sourceTensor.clone().detach().requires_grad_(True), rather than torch.tensor(sourceTensor).\n",
      "  edge_label = torch.tensor(edge_label, dtype=torch.float).to(device)\n",
      "/tmp/ipykernel_2380654/1855557197.py:9: UserWarning: To copy construct from a tensor, it is recommended to use sourceTensor.clone().detach() or sourceTensor.clone().detach().requires_grad_(True), rather than torch.tensor(sourceTensor).\n",
      "  edge_bool = torch.tensor(edge_bool, dtype=torch.bool).to(device)\n",
      "/tmp/ipykernel_2380654/1855557197.py:10: UserWarning: To copy construct from a tensor, it is recommended to use sourceTensor.clone().detach() or sourceTensor.clone().detach().requires_grad_(True), rather than torch.tensor(sourceTensor).\n",
      "  edge_attr = torch.tensor(edge_attr, dtype=torch.float).to(device)\n"
     ]
    }
   ],
   "source": [
    "node_left = torch.tensor(node_left, dtype=torch.float32).to(device)\n",
    "node_left_bool = torch.tensor(node_left_bool, dtype=torch.float32).to(device)\n",
    "node_left_mask  = torch.tensor(node_left_mask, dtype=torch.float32).to(device)\n",
    "node_right = torch.tensor(node_right, dtype=torch.float32).to(device)\n",
    "node_right_bool = torch.tensor(node_right_bool, dtype=torch.float32).to(device)\n",
    "node_right_mask  = torch.tensor(node_right_mask, dtype=torch.float32).to(device)\n",
    "edge_index = torch.tensor(edge_index, dtype=torch.long).to(device)\n",
    "edge_label = torch.tensor(edge_label, dtype=torch.float).to(device)\n",
    "edge_bool = torch.tensor(edge_bool, dtype=torch.bool).to(device)\n",
    "edge_attr = torch.tensor(edge_attr, dtype=torch.float).to(device)"
   ]
  },
  {
   "cell_type": "code",
   "execution_count": 22,
   "metadata": {},
   "outputs": [],
   "source": [
    "class EdgeMLP(nn.Module):\n",
    "    def __init__(self, edge_in_fea, edge_emd_fea, edge_out_fea):\n",
    "        super(EdgeMLP, self).__init__()\n",
    "        self.edge_updates = nn.Sequential(nn.Linear(edge_in_fea, edge_emd_fea), nn.ReLU())\n",
    "        nn.Sequential(\n",
    "            nn.Linear(edge_in_fea, edge_emd_fea), nn.ReLU(),\n",
    "            nn.Linear(edge_emd_fea, edge_emd_fea), nn.ReLU(),\n",
    "            nn.Linear(edge_emd_fea, edge_emd_fea), nn.ReLU(),\n",
    "            nn.Linear(edge_emd_fea, edge_out_fea), nn.ReLU())\n",
    "    \n",
    "    def forward(self, edge_attr):\n",
    "        for f in self.edge_updates:\n",
    "            edge_attr = f(edge_attr)\n",
    "        return edge_attr\n",
    "\n",
    "class NodeMLP(nn.Module):\n",
    "    def __init__(self, node_in_fea, node_emd_fea, node_out_fea):\n",
    "        super(NodeMLP, self).__init__()\n",
    "        self.node_updates = nn.Sequential(\n",
    "            nn.Linear(node_in_fea, node_emd_fea), nn.ReLU(),\n",
    "            nn.Linear(node_emd_fea, node_emd_fea), nn.ReLU(),\n",
    "            nn.Linear(node_emd_fea, node_emd_fea), nn.ReLU(),\n",
    "            nn.Linear(node_emd_fea, node_out_fea), nn.ReLU())\n",
    "    \n",
    "    def forward(self, x):\n",
    "        for f in self.node_updates:\n",
    "            x = f(x)\n",
    "        return x\n",
    "\n",
    "class BipartiteGraphOperator(MessagePassing):\n",
    "    def __init__(self, dim1=256, dim2=256, dim_out=256, flow='source_to_target'):\n",
    "        super().__init__()\n",
    "#         super(BipartiteGraphOperator, self).__init__('add', 'source_to_target')\n",
    "        self.flow = flow\n",
    "        self.lin = torch.nn.Linear(dim1 + dim2, dim_out)\n",
    "\n",
    "    def forward(self, x, assign_index, N, M,edge_attr=None):\n",
    "        return self.propagate(assign_index, size=(N, M), x=x,edge_attr=edge_attr)\n",
    "\n",
    "    def message(self, x_i, x_j,edge_attr=None):\n",
    "        # print('Here:', x_i.shape, x_j.shape)\n",
    "        return self.lin(torch.cat([x_i, x_j], dim=1))\n",
    "\n",
    "class MPNNBlock(nn.Module):\n",
    "    def __init__(self, TF_in=512, TF_hidden=1024, TF_out=512, target_in=2495, target_hidden=1024, target_out=512, edge_in=1, edge_hidden=1024, edge_out=256):\n",
    "        super(MPNNBlock, self).__init__()\n",
    "        self.left_model = NodeMLP(TF_in, TF_hidden, TF_out)\n",
    "        self.right_model = NodeMLP(target_in, target_hidden, target_out)\n",
    "        if edge_in is not None:\n",
    "            if edge_in > 0:\n",
    "                self.edge_model = EdgeMLP(edge_in, edge_hidden, edge_out)\n",
    "        node_out = (TF_out + target_out) // 2\n",
    "        self.mpnn_conv_src = BipartiteGraphOperator(dim1=TF_out, dim2=target_out, dim_out=node_out, flow='target_to_source')\n",
    "        self.mpnn_conv_dest = BipartiteGraphOperator(dim1=TF_out, dim2=target_out, dim_out=node_out, flow='source_to_target')\n",
    "\n",
    "    def forward(self, node_left, node_right, edge_index, edge_attr=None):\n",
    "        node_left = self.left_model(node_left)\n",
    "        node_right = self.right_model(node_right)\n",
    "        if len(node_left.shape) == 3:\n",
    "            node_left = node_left.mean(dim=1)\n",
    "        if len(node_right.shape) == 3:\n",
    "            node_right = node_right.mean(dim=1)\n",
    "        if edge_attr is not None:\n",
    "            edge_attr = self.edge_model(edge_attr)\n",
    "        # print(len(node_left.shape), node_right.shape, node_left.shape, edge_attr.shape, edge_index.shape, node_left.size()[0], node_right.size()[0])\n",
    "        if edge_attr is not None:\n",
    "            # print(node_left.shape, node_right.shape)\n",
    "            node_left = self.mpnn_conv_src((node_left, node_right), edge_index, N=node_left.shape[0], M=node_right.shape[0],edge_attr=edge_attr.mean(dim=1))\n",
    "            node_right = self.mpnn_conv_dest((node_left, node_right), edge_index, N=node_left.shape[0], M=node_right.shape[0],edge_attr=edge_attr.mean(dim=1))\n",
    "        else:\n",
    "            node_left = self.mpnn_conv_src((node_left, node_right), edge_index, N=node_left.shape[0], M=node_right.shape[0])\n",
    "            node_right = self.mpnn_conv_dest((node_left, node_right), edge_index, N=node_left.shape[0], M=node_right.shape[0])\n",
    "        # print(node_left.shape, node_right.shape)\n",
    "        return node_left, node_right, edge_attr\n",
    "\n",
    "class MetaGNNLink(nn.Module):\n",
    "    def __init__(self, vocab_size_left=20, vocab_size_right=20, num_gnn_layers=2, TF_in=16, TF_hidden=16, TF_out=16, target_in=16, target_hidden=16, target_out=16, edge_in=3, edge_hidden=16, edge_out=16):\n",
    "        super().__init__()\n",
    "        self.emb_left = torch.nn.Embedding(vocab_size_left, TF_in)\n",
    "        self.emb_right = torch.nn.Embedding(vocab_size_right, target_in)\n",
    "        self.gnn = nn.ModuleList([MPNNBlock(TF_in, TF_hidden, TF_out, target_in, target_hidden, target_out, edge_in, edge_hidden, edge_out),*[MPNNBlock(TF_out, TF_hidden, TF_out, target_out, target_hidden, target_out, edge_out, edge_hidden, edge_out) for i in range(num_gnn_layers)]])\n",
    "        decoder_hidden = 64\n",
    "        if edge_in is not None:\n",
    "            if edge_in > 0:\n",
    "                decode_in = TF_out+target_out+edge_out\n",
    "        else:\n",
    "            decode_in = TF_out+target_out\n",
    "        self.decode_link = nn.Sequential(\n",
    "            nn.Linear(decode_in, decoder_hidden), nn.ReLU(),\n",
    "            nn.Linear(decoder_hidden, decoder_hidden//2), nn.ReLU(),\n",
    "            nn.Linear(decoder_hidden//2, decoder_hidden//4), nn.ReLU(),\n",
    "            nn.Linear(decoder_hidden//4, 1))\n",
    "\n",
    "    def forward(self, node_left, node_right, edge_index, edge_attr=None):\n",
    "        # print(node_left.shape, node_right.shape)\n",
    "        node_left = self.emb_left(node_left.long().squeeze())\n",
    "        # print(node_left.shape)\n",
    "        node_right = self.emb_right(node_right.long().squeeze())\n",
    "        # print(node_left.shape, node_right.shape)\n",
    "        for f in self.gnn:\n",
    "            # print(node_left.shape, node_right.shape, edge_attr.shape)\n",
    "            node_left, node_right, edge_attr = f(node_left, node_right, edge_index, edge_attr)\n",
    "            # print(node_left.sum().item(), node_right.sum().item(), edge_attr.sum().item())\n",
    "        \n",
    "        for i, f in enumerate(self.decode_link):\n",
    "            if i == 0:\n",
    "                if edge_attr is not None:\n",
    "                    edge_concat = torch.cat([node_left[edge_index[0]], node_right[edge_index[1]], edge_attr], dim=1)\n",
    "                else:\n",
    "                    edge_concat = torch.cat([node_left[edge_index[0]], node_right[edge_index[1]]], dim=1)\n",
    "                link_out = f(edge_concat)\n",
    "            else:\n",
    "                link_out = f(link_out)\n",
    "\n",
    "        return link_out\n",
    "    \n",
    "    def decode(self, node_left, node_right, edge_index, edge_attr):\n",
    "        link_out = self.cossim(node_left[edge_index[0]], node_right[edge_index[1]])\n",
    "        return link_out\n",
    "    \n",
    "    def decode_linear(self, node_left, node_right, edge_index, edge_attr):\n",
    "        for i, f in enumerate(self.decode_link):\n",
    "            if i == 0:\n",
    "                edge_concat = torch.cat([node_left[edge_index[0]], node_right[edge_index[1]], edge_attr], dim=1)\n",
    "                link_out = f(edge_concat)\n",
    "            else:\n",
    "                link_out = f(link_out)\n",
    "        \n",
    "    def decode_edge(self, edge_attr):\n",
    "        pass"
   ]
  },
  {
   "cell_type": "code",
   "execution_count": 33,
   "metadata": {},
   "outputs": [],
   "source": [
    "gpu = 2\n",
    "device = torch.device(f'cuda:{gpu}' if torch.cuda.is_available() else 'cpu')\n",
    "model = MetaGNNLink(vocab_size_left=len(pep_tokenizer.get_vocab()), vocab_size_right=len(vocab), num_gnn_layers=3,target_in=32, TF_in=32, edge_in=edge_attr.shape[-1]).to(device)\n",
    "criterion = torch.nn.BCEWithLogitsLoss().to(device) # pos_weight=edge_weight.squeeze()[edge_bool]\n",
    "optimizer = torch.optim.AdamW(model.parameters(), lr=5e-4, betas=(0.9, 0.98), eps=2e-5, weight_decay=1e-3)"
   ]
  },
  {
   "cell_type": "code",
   "execution_count": 40,
   "metadata": {},
   "outputs": [
    {
     "name": "stderr",
     "output_type": "stream",
     "text": [
      "Training:   0%|\u001b[38;2;153;255;255m▏                                                                    \u001b[0m| [1/300, step=2, train loss=0.0002]\u001b[0m"
     ]
    },
    {
     "name": "stdout",
     "output_type": "stream",
     "text": [
      "Epoch 1 | test loss avg: 0.0018 | test acc: 0.9938 | test auc: 0.6426.\n"
     ]
    },
    {
     "name": "stderr",
     "output_type": "stream",
     "text": [
      "Training:   1%|\u001b[38;2;153;255;255m▍                                                                    \u001b[0m| [2/300, step=3, train loss=0.0002]\u001b[0m"
     ]
    },
    {
     "name": "stdout",
     "output_type": "stream",
     "text": [
      "Epoch 2 | test loss avg: 0.0018 | test acc: 0.9935 | test auc: 0.6801.\n"
     ]
    },
    {
     "name": "stderr",
     "output_type": "stream",
     "text": [
      "Training:  25%|\u001b[38;2;153;255;255m████████████████▌                                                  \u001b[0m| [74/300, step=75, train loss=0.0002]\u001b[0m"
     ]
    },
    {
     "name": "stdout",
     "output_type": "stream",
     "text": [
      "Epoch 74 | test loss avg: 0.0015 | test acc: 0.9903 | test auc: 0.6948.\n"
     ]
    },
    {
     "name": "stderr",
     "output_type": "stream",
     "text": [
      "Training:  33%|\u001b[38;2;153;255;255m█████████████████████▋                                           \u001b[0m| [100/300, step=101, train loss=0.0019]\u001b[0m"
     ]
    },
    {
     "name": "stdout",
     "output_type": "stream",
     "text": [
      "Epoch 100 | test loss avg: 0.0171 | test acc: 0.9985 | test auc: 0.6948.\n"
     ]
    },
    {
     "name": "stderr",
     "output_type": "stream",
     "text": [
      "Training:  48%|\u001b[38;2;153;255;255m███████████████████████████████▍                                 \u001b[0m| [145/300, step=146, train loss=0.0003]\u001b[0m"
     ]
    },
    {
     "name": "stdout",
     "output_type": "stream",
     "text": [
      "Epoch 145 | test loss avg: 0.0030 | test acc: 0.9591 | test auc: 0.6979.\n"
     ]
    },
    {
     "name": "stderr",
     "output_type": "stream",
     "text": [
      "Training:  67%|\u001b[38;2;153;255;255m███████████████████████████████████████████▎                     \u001b[0m| [200/300, step=201, train loss=0.0001]\u001b[0m"
     ]
    },
    {
     "name": "stdout",
     "output_type": "stream",
     "text": [
      "Epoch 200 | test loss avg: 0.0009 | test acc: 0.9984 | test auc: 0.6979.\n"
     ]
    },
    {
     "name": "stderr",
     "output_type": "stream",
     "text": [
      "Training:  75%|\u001b[38;2;153;255;255m████████████████████████████████████████████████▉                \u001b[0m| [226/300, step=227, train loss=0.0000]\u001b[0m"
     ]
    },
    {
     "name": "stdout",
     "output_type": "stream",
     "text": [
      "Epoch 226 | test loss avg: 0.0003 | test acc: 0.9957 | test auc: 0.6980.\n"
     ]
    },
    {
     "name": "stderr",
     "output_type": "stream",
     "text": [
      "Training:  76%|\u001b[38;2;153;255;255m█████████████████████████████████████████████████▍               \u001b[0m| [228/300, step=229, train loss=0.0008]\u001b[0m"
     ]
    },
    {
     "name": "stdout",
     "output_type": "stream",
     "text": [
      "Epoch 228 | test loss avg: 0.0088 | test acc: 0.9170 | test auc: 0.7293.\n"
     ]
    },
    {
     "name": "stderr",
     "output_type": "stream",
     "text": [
      "Training: 100%|\u001b[38;2;153;255;255m█████████████████████████████████████████████████████████████████\u001b[0m| [300/300, step=300, train loss=0.0001]\u001b[0m"
     ]
    },
    {
     "name": "stdout",
     "output_type": "stream",
     "text": [
      "Epoch 300 | test loss avg: 0.0004 | test acc: 0.9983 | test auc: 0.7293.\n"
     ]
    },
    {
     "name": "stderr",
     "output_type": "stream",
     "text": [
      "\n"
     ]
    }
   ],
   "source": [
    "NUM_TRAINING_EPOCHS = 300\n",
    "minimum_loss = np.inf\n",
    "best_roc = 0\n",
    "best_epoch = 0\n",
    "train_loss_list = []\n",
    "test_loss_list = []\n",
    "step = 0\n",
    "cutoff = 0.1\n",
    "\n",
    "# 检查数据泄漏\n",
    "# assert len(set(node_left[edge_bool].numpy()).intersection(set(node_left[~edge_bool].numpy()))) == 0, \"Training and validation sets overlap in node_left\"\n",
    "# assert len(set(node_right[edge_bool].numpy()).intersection(set(node_right[~edge_bool].numpy()))) == 0, \"Training and validation sets overlap in node_right\"\n",
    "\n",
    "with tqdm(total=NUM_TRAINING_EPOCHS, desc=f'Training', ncols=120, postfix=dict, mininterval=0.3, colour=\"#99FFFF\", bar_format='{l_bar}{bar}| [{n_fmt}/{total_fmt}{postfix}]') as pbar:\n",
    "    for epoch in range(1, NUM_TRAINING_EPOCHS + 1):\n",
    "        model.train()\n",
    "        outputs = model(node_left, node_right, edge_index, edge_attr).squeeze()\n",
    "\n",
    "        if outputs.ndim > 1:\n",
    "            outputs = outputs.view(-1)\n",
    "\n",
    "        logits = outputs[edge_bool]\n",
    "        targets = edge_label[edge_bool]\n",
    "        \n",
    "        loss = criterion(logits, targets)\n",
    "        train_loss = loss.item() / targets.shape[0]\n",
    "        loss.backward()\n",
    "        optimizer.step()\n",
    "        optimizer.zero_grad()\n",
    "        \n",
    "        step += 1\n",
    "        train_loss_list.append(train_loss)\n",
    "        pbar.set_postfix({'step': f\"{epoch}\", 'train loss': f\"{train_loss:.4f}\"})\n",
    "        time.sleep(0.05)\n",
    "        pbar.update(1)\n",
    "        \n",
    "        model.eval()\n",
    "        with torch.no_grad():\n",
    "            outputs = model(node_left, node_right, edge_index, edge_attr).squeeze()\n",
    "\n",
    "            if outputs.ndim > 1:\n",
    "                outputs = outputs.view(-1)\n",
    "\n",
    "            test_logits = outputs[~edge_bool]\n",
    "            test_targets = edge_label[~edge_bool]\n",
    "            \n",
    "            test_loss = criterion(test_logits, test_targets).item() / test_targets.shape[0]\n",
    "            test_loss_list.append(test_loss)\n",
    "            \n",
    "            # 预测标签\n",
    "            predict_label = (test_logits > cutoff).long()\n",
    "            test_acc = (predict_label == test_targets).sum().item() / len(test_targets)\n",
    "            \n",
    "            # 计算AUC\n",
    "            preds = test_logits.detach().cpu().numpy()\n",
    "            fpr, tpr, threshold = metrics.roc_curve(test_targets.detach().cpu().numpy(), preds)\n",
    "            roc_auc = metrics.auc(fpr, tpr)\n",
    "        \n",
    "        if roc_auc > best_roc:\n",
    "            best_roc = roc_auc\n",
    "            best_epoch = epoch\n",
    "            best_logits = preds\n",
    "            print(f\"Epoch {epoch} | test loss avg: {test_loss:.4f} | test acc: {test_acc:.4f} | test auc: {best_roc:.4f}.\")\n",
    "        elif epoch % 100 == 0:\n",
    "            print(f\"Epoch {epoch} | test loss avg: {test_loss:.4f} | test acc: {test_acc:.4f} | test auc: {best_roc:.4f}.\")"
   ]
  },
  {
   "cell_type": "code",
   "execution_count": 35,
   "metadata": {},
   "outputs": [
    {
     "name": "stdout",
     "output_type": "stream",
     "text": [
      "node_left shape: torch.Size([1865, 1, 1000])\n",
      "node_right shape: torch.Size([30787, 2500])\n",
      "edge_bool shape: torch.Size([345329])\n"
     ]
    }
   ],
   "source": [
    "# 打印形状以检查一致性\n",
    "print(f\"node_left shape: {node_left.shape}\")\n",
    "print(f\"node_right shape: {node_right.shape}\")\n",
    "print(f\"edge_bool shape: {edge_bool.shape}\")"
   ]
  },
  {
   "cell_type": "code",
   "execution_count": 39,
   "metadata": {},
   "outputs": [
    {
     "data": {
      "text/html": [
       "<div>\n",
       "<style scoped>\n",
       "    .dataframe tbody tr th:only-of-type {\n",
       "        vertical-align: middle;\n",
       "    }\n",
       "\n",
       "    .dataframe tbody tr th {\n",
       "        vertical-align: top;\n",
       "    }\n",
       "\n",
       "    .dataframe thead th {\n",
       "        text-align: right;\n",
       "    }\n",
       "</style>\n",
       "<table border=\"1\" class=\"dataframe\">\n",
       "  <thead>\n",
       "    <tr style=\"text-align: right;\">\n",
       "      <th></th>\n",
       "      <th>TF</th>\n",
       "      <th>TF_pep</th>\n",
       "      <th>TF_cds</th>\n",
       "      <th>Target</th>\n",
       "      <th>Target_promoter</th>\n",
       "      <th>Edge_attr0</th>\n",
       "      <th>Edge_attr2</th>\n",
       "      <th>Edge_attr3</th>\n",
       "      <th>Edge_attr4</th>\n",
       "      <th>Edge_attr5</th>\n",
       "      <th>...</th>\n",
       "      <th>Edge_attr29</th>\n",
       "      <th>Edge_attr30</th>\n",
       "      <th>Edge_attr31</th>\n",
       "      <th>Edge_attr32</th>\n",
       "      <th>GENIE3</th>\n",
       "      <th>ATAC</th>\n",
       "      <th>PWM</th>\n",
       "      <th>Chip</th>\n",
       "      <th>Label</th>\n",
       "      <th>cPWM</th>\n",
       "    </tr>\n",
       "  </thead>\n",
       "  <tbody>\n",
       "    <tr>\n",
       "      <th>1834770</th>\n",
       "      <td>LOC_Os03g60430</td>\n",
       "      <td>MLLDLNVESPERSGTSSSSVLNSGDAGGGGGGGGGGGLFRFDLLAS...</td>\n",
       "      <td>ATGTTGTTGGATCTCAATGTGGAGTCGCCGGAACGGTCCGGCACGT...</td>\n",
       "      <td>LOC_Os06g06760</td>\n",
       "      <td>GTGGCATCGCACTACACACACCACCCGTGAGGACTGAGGAGTCTCG...</td>\n",
       "      <td>0.684466</td>\n",
       "      <td>0.930658</td>\n",
       "      <td>0.031236</td>\n",
       "      <td>0.985271</td>\n",
       "      <td>0.683051</td>\n",
       "      <td>...</td>\n",
       "      <td>0.816782</td>\n",
       "      <td>0.690776</td>\n",
       "      <td>0.590202</td>\n",
       "      <td>0.350191</td>\n",
       "      <td>0.007306</td>\n",
       "      <td>0.761364</td>\n",
       "      <td>0.628816</td>\n",
       "      <td>0.000000</td>\n",
       "      <td>1.0</td>\n",
       "      <td>0.695014</td>\n",
       "    </tr>\n",
       "    <tr>\n",
       "      <th>1834771</th>\n",
       "      <td>LOC_Os03g60430</td>\n",
       "      <td>MLLDLNVESPERSGTSSSSVLNSGDAGGGGGGGGGGGLFRFDLLAS...</td>\n",
       "      <td>ATGTTGTTGGATCTCAATGTGGAGTCGCCGGAACGGTCCGGCACGT...</td>\n",
       "      <td>LOC_Os12g44360</td>\n",
       "      <td>TCAAAACTTCCAAACGACACGTGTTTTTTTAAAAAATCTACCTAGA...</td>\n",
       "      <td>0.743212</td>\n",
       "      <td>0.857745</td>\n",
       "      <td>0.999184</td>\n",
       "      <td>0.950132</td>\n",
       "      <td>0.682092</td>\n",
       "      <td>...</td>\n",
       "      <td>0.605103</td>\n",
       "      <td>0.024517</td>\n",
       "      <td>0.999660</td>\n",
       "      <td>0.834553</td>\n",
       "      <td>0.005444</td>\n",
       "      <td>0.761364</td>\n",
       "      <td>0.695014</td>\n",
       "      <td>0.000000</td>\n",
       "      <td>1.0</td>\n",
       "      <td>0.683667</td>\n",
       "    </tr>\n",
       "    <tr>\n",
       "      <th>1834772</th>\n",
       "      <td>LOC_Os06g43220</td>\n",
       "      <td>MCRDCGKQVYLGGFDTAQAAARAYDQAAIKFRGVEADINFTLDDYK...</td>\n",
       "      <td>ATGTGCAGGGATTGTGGGAAGCAGGTGTACTTGGGTGGATTCGATA...</td>\n",
       "      <td>LOC_Os01g64000</td>\n",
       "      <td>GTTAGCTGGCACATCACCTATTATCTGATTGGGAGTGATTAAGATG...</td>\n",
       "      <td>0.820749</td>\n",
       "      <td>0.039289</td>\n",
       "      <td>0.780055</td>\n",
       "      <td>0.998819</td>\n",
       "      <td>0.746520</td>\n",
       "      <td>...</td>\n",
       "      <td>0.114680</td>\n",
       "      <td>0.281077</td>\n",
       "      <td>0.825994</td>\n",
       "      <td>0.445571</td>\n",
       "      <td>0.011664</td>\n",
       "      <td>0.727271</td>\n",
       "      <td>0.683667</td>\n",
       "      <td>0.772325</td>\n",
       "      <td>1.0</td>\n",
       "      <td>0.683667</td>\n",
       "    </tr>\n",
       "    <tr>\n",
       "      <th>1834773</th>\n",
       "      <td>LOC_Os07g13170</td>\n",
       "      <td>MVLDLNVESPGGSAATSSSSTPPPPPDGGGGGYFRFDLLGGSPDED...</td>\n",
       "      <td>ATGGTGCTGGATCTCAATGTGGAGTCGCCGGGTGGGTCGGCGGCGA...</td>\n",
       "      <td>LOC_Os01g62920</td>\n",
       "      <td>AAATATGCCGGTTCTATATTTTTTTCATCGTGGGAAGGTGAGAAAA...</td>\n",
       "      <td>0.481239</td>\n",
       "      <td>0.219498</td>\n",
       "      <td>0.539522</td>\n",
       "      <td>0.598057</td>\n",
       "      <td>0.107919</td>\n",
       "      <td>...</td>\n",
       "      <td>0.096707</td>\n",
       "      <td>0.199466</td>\n",
       "      <td>0.402903</td>\n",
       "      <td>0.558947</td>\n",
       "      <td>0.006627</td>\n",
       "      <td>0.785802</td>\n",
       "      <td>0.683667</td>\n",
       "      <td>0.820221</td>\n",
       "      <td>1.0</td>\n",
       "      <td>0.696472</td>\n",
       "    </tr>\n",
       "    <tr>\n",
       "      <th>1834774</th>\n",
       "      <td>LOC_Os07g13170</td>\n",
       "      <td>MVLDLNVESPGGSAATSSSSTPPPPPDGGGGGYFRFDLLGGSPDED...</td>\n",
       "      <td>ATGGTGCTGGATCTCAATGTGGAGTCGCCGGGTGGGTCGGCGGCGA...</td>\n",
       "      <td>LOC_Os05g38120</td>\n",
       "      <td>GTTTGGTTGAAATTGGAACGATGTGATGGAAAAGTTGAAAGTTTGT...</td>\n",
       "      <td>0.133467</td>\n",
       "      <td>0.392471</td>\n",
       "      <td>0.441903</td>\n",
       "      <td>0.743827</td>\n",
       "      <td>0.867580</td>\n",
       "      <td>...</td>\n",
       "      <td>0.227214</td>\n",
       "      <td>0.260454</td>\n",
       "      <td>0.083318</td>\n",
       "      <td>0.583988</td>\n",
       "      <td>0.005194</td>\n",
       "      <td>0.785802</td>\n",
       "      <td>0.696472</td>\n",
       "      <td>0.825706</td>\n",
       "      <td>1.0</td>\n",
       "      <td>0.000000</td>\n",
       "    </tr>\n",
       "    <tr>\n",
       "      <th>...</th>\n",
       "      <td>...</td>\n",
       "      <td>...</td>\n",
       "      <td>...</td>\n",
       "      <td>...</td>\n",
       "      <td>...</td>\n",
       "      <td>...</td>\n",
       "      <td>...</td>\n",
       "      <td>...</td>\n",
       "      <td>...</td>\n",
       "      <td>...</td>\n",
       "      <td>...</td>\n",
       "      <td>...</td>\n",
       "      <td>...</td>\n",
       "      <td>...</td>\n",
       "      <td>...</td>\n",
       "      <td>...</td>\n",
       "      <td>...</td>\n",
       "      <td>...</td>\n",
       "      <td>...</td>\n",
       "      <td>...</td>\n",
       "      <td>...</td>\n",
       "    </tr>\n",
       "    <tr>\n",
       "      <th>1835496</th>\n",
       "      <td>LOC_Os05g34310</td>\n",
       "      <td>MAMQLSLPVLPTGFRFHPTDEELVINYLQRRATGLSCPIPIIADVE...</td>\n",
       "      <td>ATGGCAATGCAGCTGTCCTTGCCTGTCTTGCCAACGGGTTTTCGTT...</td>\n",
       "      <td>LOC_Os08g25734</td>\n",
       "      <td>TATTCGTTGCTCGGAGATTGAGAGACAGACAGAGAGAGCATATTAG...</td>\n",
       "      <td>0.550916</td>\n",
       "      <td>0.318475</td>\n",
       "      <td>0.737855</td>\n",
       "      <td>1.036431</td>\n",
       "      <td>0.236209</td>\n",
       "      <td>...</td>\n",
       "      <td>0.515716</td>\n",
       "      <td>0.302465</td>\n",
       "      <td>1.129555</td>\n",
       "      <td>0.308299</td>\n",
       "      <td>0.000000</td>\n",
       "      <td>0.000000</td>\n",
       "      <td>0.000000</td>\n",
       "      <td>0.000000</td>\n",
       "      <td>1.0</td>\n",
       "      <td>0.000000</td>\n",
       "    </tr>\n",
       "    <tr>\n",
       "      <th>1835497</th>\n",
       "      <td>LOC_Os05g34310</td>\n",
       "      <td>MAMQLSLPVLPTGFRFHPTDEELVINYLQRRATGLSCPIPIIADVE...</td>\n",
       "      <td>ATGGCAATGCAGCTGTCCTTGCCTGTCTTGCCAACGGGTTTTCGTT...</td>\n",
       "      <td>LOC_Os06g06560</td>\n",
       "      <td>AAATCTAGCTAGAACAATCACGTTAACCCAGCTGAAACAAGCTGGC...</td>\n",
       "      <td>0.560349</td>\n",
       "      <td>0.216811</td>\n",
       "      <td>1.367256</td>\n",
       "      <td>0.913438</td>\n",
       "      <td>0.079878</td>\n",
       "      <td>...</td>\n",
       "      <td>0.309029</td>\n",
       "      <td>0.778970</td>\n",
       "      <td>0.891493</td>\n",
       "      <td>0.187223</td>\n",
       "      <td>0.000000</td>\n",
       "      <td>0.000000</td>\n",
       "      <td>0.000000</td>\n",
       "      <td>0.000000</td>\n",
       "      <td>1.0</td>\n",
       "      <td>0.000000</td>\n",
       "    </tr>\n",
       "    <tr>\n",
       "      <th>1835498</th>\n",
       "      <td>LOC_Os05g34310</td>\n",
       "      <td>MAMQLSLPVLPTGFRFHPTDEELVINYLQRRATGLSCPIPIIADVE...</td>\n",
       "      <td>ATGGCAATGCAGCTGTCCTTGCCTGTCTTGCCAACGGGTTTTCGTT...</td>\n",
       "      <td>LOC_Os08g09230</td>\n",
       "      <td>AAGATATGGCTTCATGAGAGAAGAAAGAATTAGCATTAACTACACT...</td>\n",
       "      <td>0.753937</td>\n",
       "      <td>0.359155</td>\n",
       "      <td>0.280905</td>\n",
       "      <td>0.269503</td>\n",
       "      <td>0.360355</td>\n",
       "      <td>...</td>\n",
       "      <td>0.357032</td>\n",
       "      <td>0.566313</td>\n",
       "      <td>1.086802</td>\n",
       "      <td>0.074436</td>\n",
       "      <td>0.000000</td>\n",
       "      <td>0.000000</td>\n",
       "      <td>0.000000</td>\n",
       "      <td>0.000000</td>\n",
       "      <td>1.0</td>\n",
       "      <td>0.000000</td>\n",
       "    </tr>\n",
       "    <tr>\n",
       "      <th>1835499</th>\n",
       "      <td>LOC_Os05g34310</td>\n",
       "      <td>MAMQLSLPVLPTGFRFHPTDEELVINYLQRRATGLSCPIPIIADVE...</td>\n",
       "      <td>ATGGCAATGCAGCTGTCCTTGCCTGTCTTGCCAACGGGTTTTCGTT...</td>\n",
       "      <td>LOC_Os05g45720</td>\n",
       "      <td>CCTTACATCAGTTGATGCTCTAGGAGTTGACACGTGGGATTCCAAC...</td>\n",
       "      <td>0.443557</td>\n",
       "      <td>0.660087</td>\n",
       "      <td>0.745327</td>\n",
       "      <td>0.779830</td>\n",
       "      <td>0.466468</td>\n",
       "      <td>...</td>\n",
       "      <td>0.565565</td>\n",
       "      <td>0.098735</td>\n",
       "      <td>0.984653</td>\n",
       "      <td>0.541090</td>\n",
       "      <td>0.000000</td>\n",
       "      <td>0.000000</td>\n",
       "      <td>0.000000</td>\n",
       "      <td>0.000000</td>\n",
       "      <td>1.0</td>\n",
       "      <td>0.000000</td>\n",
       "    </tr>\n",
       "    <tr>\n",
       "      <th>1835500</th>\n",
       "      <td>LOC_Os04g39470</td>\n",
       "      <td>MGRVPCCEKDNVKRGQWTPEEDNKLLSYITQYGTRNWRLIPKNAGL...</td>\n",
       "      <td>ATGGGGCGGGTGCCGTGCTGCGAGAAGGACAACGTGAAGCGCGGGC...</td>\n",
       "      <td>LOC_Os05g50890</td>\n",
       "      <td>TAGTACCGGTTCTAAAAGTACAAATCCCTAGAAACATCTTTAGTCT...</td>\n",
       "      <td>0.667836</td>\n",
       "      <td>0.357653</td>\n",
       "      <td>0.485066</td>\n",
       "      <td>0.822807</td>\n",
       "      <td>0.755677</td>\n",
       "      <td>...</td>\n",
       "      <td>0.419199</td>\n",
       "      <td>0.264950</td>\n",
       "      <td>0.838795</td>\n",
       "      <td>0.616614</td>\n",
       "      <td>0.000000</td>\n",
       "      <td>0.000000</td>\n",
       "      <td>0.000000</td>\n",
       "      <td>0.000000</td>\n",
       "      <td>1.0</td>\n",
       "      <td>0.000000</td>\n",
       "    </tr>\n",
       "  </tbody>\n",
       "</table>\n",
       "<p>731 rows × 41 columns</p>\n",
       "</div>"
      ],
      "text/plain": [
       "                     TF                                             TF_pep  \\\n",
       "1834770  LOC_Os03g60430  MLLDLNVESPERSGTSSSSVLNSGDAGGGGGGGGGGGLFRFDLLAS...   \n",
       "1834771  LOC_Os03g60430  MLLDLNVESPERSGTSSSSVLNSGDAGGGGGGGGGGGLFRFDLLAS...   \n",
       "1834772  LOC_Os06g43220  MCRDCGKQVYLGGFDTAQAAARAYDQAAIKFRGVEADINFTLDDYK...   \n",
       "1834773  LOC_Os07g13170  MVLDLNVESPGGSAATSSSSTPPPPPDGGGGGYFRFDLLGGSPDED...   \n",
       "1834774  LOC_Os07g13170  MVLDLNVESPGGSAATSSSSTPPPPPDGGGGGYFRFDLLGGSPDED...   \n",
       "...                 ...                                                ...   \n",
       "1835496  LOC_Os05g34310  MAMQLSLPVLPTGFRFHPTDEELVINYLQRRATGLSCPIPIIADVE...   \n",
       "1835497  LOC_Os05g34310  MAMQLSLPVLPTGFRFHPTDEELVINYLQRRATGLSCPIPIIADVE...   \n",
       "1835498  LOC_Os05g34310  MAMQLSLPVLPTGFRFHPTDEELVINYLQRRATGLSCPIPIIADVE...   \n",
       "1835499  LOC_Os05g34310  MAMQLSLPVLPTGFRFHPTDEELVINYLQRRATGLSCPIPIIADVE...   \n",
       "1835500  LOC_Os04g39470  MGRVPCCEKDNVKRGQWTPEEDNKLLSYITQYGTRNWRLIPKNAGL...   \n",
       "\n",
       "                                                    TF_cds           Target  \\\n",
       "1834770  ATGTTGTTGGATCTCAATGTGGAGTCGCCGGAACGGTCCGGCACGT...  LOC_Os06g06760    \n",
       "1834771  ATGTTGTTGGATCTCAATGTGGAGTCGCCGGAACGGTCCGGCACGT...   LOC_Os12g44360   \n",
       "1834772  ATGTGCAGGGATTGTGGGAAGCAGGTGTACTTGGGTGGATTCGATA...   LOC_Os01g64000   \n",
       "1834773  ATGGTGCTGGATCTCAATGTGGAGTCGCCGGGTGGGTCGGCGGCGA...   LOC_Os01g62920   \n",
       "1834774  ATGGTGCTGGATCTCAATGTGGAGTCGCCGGGTGGGTCGGCGGCGA...   LOC_Os05g38120   \n",
       "...                                                    ...              ...   \n",
       "1835496  ATGGCAATGCAGCTGTCCTTGCCTGTCTTGCCAACGGGTTTTCGTT...   LOC_Os08g25734   \n",
       "1835497  ATGGCAATGCAGCTGTCCTTGCCTGTCTTGCCAACGGGTTTTCGTT...   LOC_Os06g06560   \n",
       "1835498  ATGGCAATGCAGCTGTCCTTGCCTGTCTTGCCAACGGGTTTTCGTT...   LOC_Os08g09230   \n",
       "1835499  ATGGCAATGCAGCTGTCCTTGCCTGTCTTGCCAACGGGTTTTCGTT...   LOC_Os05g45720   \n",
       "1835500  ATGGGGCGGGTGCCGTGCTGCGAGAAGGACAACGTGAAGCGCGGGC...   LOC_Os05g50890   \n",
       "\n",
       "                                           Target_promoter  Edge_attr0  \\\n",
       "1834770  GTGGCATCGCACTACACACACCACCCGTGAGGACTGAGGAGTCTCG...    0.684466   \n",
       "1834771  TCAAAACTTCCAAACGACACGTGTTTTTTTAAAAAATCTACCTAGA...    0.743212   \n",
       "1834772  GTTAGCTGGCACATCACCTATTATCTGATTGGGAGTGATTAAGATG...    0.820749   \n",
       "1834773  AAATATGCCGGTTCTATATTTTTTTCATCGTGGGAAGGTGAGAAAA...    0.481239   \n",
       "1834774  GTTTGGTTGAAATTGGAACGATGTGATGGAAAAGTTGAAAGTTTGT...    0.133467   \n",
       "...                                                    ...         ...   \n",
       "1835496  TATTCGTTGCTCGGAGATTGAGAGACAGACAGAGAGAGCATATTAG...    0.550916   \n",
       "1835497  AAATCTAGCTAGAACAATCACGTTAACCCAGCTGAAACAAGCTGGC...    0.560349   \n",
       "1835498  AAGATATGGCTTCATGAGAGAAGAAAGAATTAGCATTAACTACACT...    0.753937   \n",
       "1835499  CCTTACATCAGTTGATGCTCTAGGAGTTGACACGTGGGATTCCAAC...    0.443557   \n",
       "1835500  TAGTACCGGTTCTAAAAGTACAAATCCCTAGAAACATCTTTAGTCT...    0.667836   \n",
       "\n",
       "         Edge_attr2  Edge_attr3  Edge_attr4  Edge_attr5  ...  Edge_attr29  \\\n",
       "1834770    0.930658    0.031236    0.985271    0.683051  ...     0.816782   \n",
       "1834771    0.857745    0.999184    0.950132    0.682092  ...     0.605103   \n",
       "1834772    0.039289    0.780055    0.998819    0.746520  ...     0.114680   \n",
       "1834773    0.219498    0.539522    0.598057    0.107919  ...     0.096707   \n",
       "1834774    0.392471    0.441903    0.743827    0.867580  ...     0.227214   \n",
       "...             ...         ...         ...         ...  ...          ...   \n",
       "1835496    0.318475    0.737855    1.036431    0.236209  ...     0.515716   \n",
       "1835497    0.216811    1.367256    0.913438    0.079878  ...     0.309029   \n",
       "1835498    0.359155    0.280905    0.269503    0.360355  ...     0.357032   \n",
       "1835499    0.660087    0.745327    0.779830    0.466468  ...     0.565565   \n",
       "1835500    0.357653    0.485066    0.822807    0.755677  ...     0.419199   \n",
       "\n",
       "         Edge_attr30  Edge_attr31  Edge_attr32    GENIE3      ATAC       PWM  \\\n",
       "1834770     0.690776     0.590202     0.350191  0.007306  0.761364  0.628816   \n",
       "1834771     0.024517     0.999660     0.834553  0.005444  0.761364  0.695014   \n",
       "1834772     0.281077     0.825994     0.445571  0.011664  0.727271  0.683667   \n",
       "1834773     0.199466     0.402903     0.558947  0.006627  0.785802  0.683667   \n",
       "1834774     0.260454     0.083318     0.583988  0.005194  0.785802  0.696472   \n",
       "...              ...          ...          ...       ...       ...       ...   \n",
       "1835496     0.302465     1.129555     0.308299  0.000000  0.000000  0.000000   \n",
       "1835497     0.778970     0.891493     0.187223  0.000000  0.000000  0.000000   \n",
       "1835498     0.566313     1.086802     0.074436  0.000000  0.000000  0.000000   \n",
       "1835499     0.098735     0.984653     0.541090  0.000000  0.000000  0.000000   \n",
       "1835500     0.264950     0.838795     0.616614  0.000000  0.000000  0.000000   \n",
       "\n",
       "             Chip  Label      cPWM  \n",
       "1834770  0.000000    1.0  0.695014  \n",
       "1834771  0.000000    1.0  0.683667  \n",
       "1834772  0.772325    1.0  0.683667  \n",
       "1834773  0.820221    1.0  0.696472  \n",
       "1834774  0.825706    1.0  0.000000  \n",
       "...           ...    ...       ...  \n",
       "1835496  0.000000    1.0  0.000000  \n",
       "1835497  0.000000    1.0  0.000000  \n",
       "1835498  0.000000    1.0  0.000000  \n",
       "1835499  0.000000    1.0  0.000000  \n",
       "1835500  0.000000    1.0  0.000000  \n",
       "\n",
       "[731 rows x 41 columns]"
      ]
     },
     "execution_count": 39,
     "metadata": {},
     "output_type": "execute_result"
    }
   ],
   "source": [
    "pos\n"
   ]
  },
  {
   "cell_type": "code",
   "execution_count": 37,
   "metadata": {},
   "outputs": [
    {
     "data": {
      "text/plain": [
       "<Figure size 800x600 with 0 Axes>"
      ]
     },
     "metadata": {},
     "output_type": "display_data"
    },
    {
     "data": {
      "image/png": "[encoded data removed]",
      "text/plain": [
       "<Figure size 640x480 with 2 Axes>"
      ]
     },
     "metadata": {},
     "output_type": "display_data"
    }
   ],
   "source": [
    "from sklearn.metrics import confusion_matrix, ConfusionMatrixDisplay\n",
    "final_predict_label = (best_logits > cutoff).astype(int)  # 使用最佳预测值，转换为0和1\n",
    "final_test_targets = edge_label[~edge_bool].detach().cpu().numpy()  # 真实标签\n",
    "\n",
    "# 计算混淆矩阵\n",
    "cm = confusion_matrix(final_test_targets, final_predict_label)\n",
    "\n",
    "# 绘制混淆矩阵\n",
    "plt.figure(figsize=(8, 6))\n",
    "disp = ConfusionMatrixDisplay(confusion_matrix=cm, display_labels=[0, 1])  # 假设二分类问题\n",
    "disp.plot(cmap=plt.cm.Blues)\n",
    "plt.title('Confusion Matrix')\n",
    "plt.show()"
   ]
  },
  {
   "cell_type": "code",
   "execution_count": 27,
   "metadata": {},
   "outputs": [
    {
     "name": "stdout",
     "output_type": "stream",
     "text": [
      "Unexpected exception formatting exception. Falling back to standard exception\n"
     ]
    },
    {
     "name": "stderr",
     "output_type": "stream",
     "text": [
      "Traceback (most recent call last):\n",
      "  File \"/home/hrren/miniconda3/envs/pyg/lib/python3.9/site-packages/IPython/core/interactiveshell.py\", line 3460, in run_code\n",
      "    exec(code_obj, self.user_global_ns, self.user_ns)\n",
      "  File \"/tmp/ipykernel_2380654/719623005.py\", line 2, in <module>\n",
      "    fpr, tpr, threshold = metrics.roc_curve(test_targets, best_logits)\n",
      "  File \"/home/hrren/miniconda3/envs/pyg/lib/python3.9/site-packages/sklearn/metrics/_ranking.py\", line 992, in roc_curve\n",
      "    fps, tps, thresholds = _binary_clf_curve(\n",
      "  File \"/home/hrren/miniconda3/envs/pyg/lib/python3.9/site-packages/sklearn/metrics/_ranking.py\", line 747, in _binary_clf_curve\n",
      "    y_type = type_of_target(y_true, input_name=\"y_true\")\n",
      "  File \"/home/hrren/miniconda3/envs/pyg/lib/python3.9/site-packages/sklearn/utils/multiclass.py\", line 298, in type_of_target\n",
      "    if is_multilabel(y):\n",
      "  File \"/home/hrren/miniconda3/envs/pyg/lib/python3.9/site-packages/sklearn/utils/multiclass.py\", line 161, in is_multilabel\n",
      "    y = xp.asarray(y)\n",
      "  File \"/home/hrren/miniconda3/envs/pyg/lib/python3.9/site-packages/sklearn/utils/_array_api.py\", line 75, in asarray\n",
      "    return numpy.asarray(x, dtype=dtype)\n",
      "  File \"/home/hrren/miniconda3/envs/pyg/lib/python3.9/site-packages/torch/_tensor.py\", line 1083, in __array__\n",
      "    return self.numpy()\n",
      "TypeError: can't convert cuda:2 device type tensor to numpy. Use Tensor.cpu() to copy the tensor to host memory first.\n",
      "\n",
      "During handling of the above exception, another exception occurred:\n",
      "\n",
      "Traceback (most recent call last):\n",
      "  File \"/home/hrren/miniconda3/envs/pyg/lib/python3.9/site-packages/IPython/core/interactiveshell.py\", line 2057, in showtraceback\n",
      "    stb = self.InteractiveTB.structured_traceback(\n",
      "  File \"/home/hrren/miniconda3/envs/pyg/lib/python3.9/site-packages/IPython/core/ultratb.py\", line 1118, in structured_traceback\n",
      "    return FormattedTB.structured_traceback(\n",
      "  File \"/home/hrren/miniconda3/envs/pyg/lib/python3.9/site-packages/IPython/core/ultratb.py\", line 1012, in structured_traceback\n",
      "    return VerboseTB.structured_traceback(\n",
      "  File \"/home/hrren/miniconda3/envs/pyg/lib/python3.9/site-packages/IPython/core/ultratb.py\", line 865, in structured_traceback\n",
      "    formatted_exception = self.format_exception_as_a_whole(etype, evalue, etb, number_of_lines_of_context,\n",
      "  File \"/home/hrren/miniconda3/envs/pyg/lib/python3.9/site-packages/IPython/core/ultratb.py\", line 799, in format_exception_as_a_whole\n",
      "    self.get_records(etb, number_of_lines_of_context, tb_offset) if etb else []\n",
      "  File \"/home/hrren/miniconda3/envs/pyg/lib/python3.9/site-packages/IPython/core/ultratb.py\", line 845, in get_records\n",
      "    style = stack_data.style_with_executing_node(style, self._tb_highlight)\n",
      "  File \"/home/hrren/miniconda3/envs/pyg/lib/python3.9/site-packages/stack_data/core.py\", line 424, in style_with_executing_node\n",
      "    class NewStyle(style):\n",
      "  File \"/home/hrren/miniconda3/envs/pyg/lib/python3.9/site-packages/pygments/style.py\", line 91, in __new__\n",
      "    ndef[4] = colorformat(styledef[3:])\n",
      "  File \"/home/hrren/miniconda3/envs/pyg/lib/python3.9/site-packages/pygments/style.py\", line 58, in colorformat\n",
      "    assert False, \"wrong color format %r\" % text\n",
      "AssertionError: wrong color format 'ansiyellow'\n"
     ]
    }
   ],
   "source": [
    "# calculate the fpr and tpr for all thresholds of the classification\n",
    "fpr, tpr, threshold = metrics.roc_curve(test_targets, best_logits)\n",
    "roc_auc = metrics.auc(fpr, tpr)\n",
    "\n",
    "# method I: plt\n",
    "import matplotlib.pyplot as plt\n",
    "plt.title('Receiver Operating Characteristic',fontsize=16, weight='roman')\n",
    "plt.plot(fpr, tpr, 'orange', label = 'AUC = %0.2f' % roc_auc)\n",
    "plt.legend(loc = 'lower right')\n",
    "plt.plot([0, 1], [0, 1],'p--')\n",
    "plt.xlim([0, 1])\n",
    "plt.ylim([0, 1])\n",
    "plt.ylabel('True Positive Rate', fontsize=14,labelpad=15, weight='roman')\n",
    "plt.xlabel('False Positive Rate', fontsize=14,labelpad=15, weight='roman')\n",
    "# plt.savefig(osp.join(plt_dir, 'roc_curve.png'))"
   ]
  },
  {
   "cell_type": "code",
   "execution_count": 28,
   "metadata": {},
   "outputs": [
    {
     "data": {
      "text/plain": [
       "Text(0.5, 0, 'Epoch')"
      ]
     },
     "execution_count": 28,
     "metadata": {},
     "output_type": "execute_result"
    },
    {
     "data": {
      "image/png": "[encoded data removed]",
      "text/plain": [
       "<Figure size 640x480 with 1 Axes>"
      ]
     },
     "metadata": {},
     "output_type": "display_data"
    }
   ],
   "source": [
    "plt.plot(train_loss_list)\n",
    "plt.title('Training loss curve', fontsize=18, weight='roman')\n",
    "plt.ylabel('Train loss', fontsize=14,labelpad=15, weight='roman')\n",
    "plt.xlabel('Epoch', fontsize=14,labelpad=15, weight='roman')\n",
    "# plt.savefig(osp.join(plt_dir, 'loss_curve.png'))"
   ]
  },
  {
   "cell_type": "code",
   "execution_count": 29,
   "metadata": {},
   "outputs": [
    {
     "name": "stdout",
     "output_type": "stream",
     "text": [
      "Unexpected exception formatting exception. Falling back to standard exception\n"
     ]
    },
    {
     "name": "stderr",
     "output_type": "stream",
     "text": [
      "Traceback (most recent call last):\n",
      "  File \"/home/hrren/miniconda3/envs/pyg/lib/python3.9/site-packages/IPython/core/interactiveshell.py\", line 3460, in run_code\n",
      "    exec(code_obj, self.user_global_ns, self.user_ns)\n",
      "  File \"/tmp/ipykernel_2380654/544396986.py\", line 32, in <module>\n",
      "    plot_confusion_matrix(cm, classes, savename='confusion_matrix', title='Confusion Matrix')\n",
      "NameError: name 'cm' is not defined\n",
      "\n",
      "During handling of the above exception, another exception occurred:\n",
      "\n",
      "Traceback (most recent call last):\n",
      "  File \"/home/hrren/miniconda3/envs/pyg/lib/python3.9/site-packages/IPython/core/interactiveshell.py\", line 2057, in showtraceback\n",
      "    stb = self.InteractiveTB.structured_traceback(\n",
      "  File \"/home/hrren/miniconda3/envs/pyg/lib/python3.9/site-packages/IPython/core/ultratb.py\", line 1118, in structured_traceback\n",
      "    return FormattedTB.structured_traceback(\n",
      "  File \"/home/hrren/miniconda3/envs/pyg/lib/python3.9/site-packages/IPython/core/ultratb.py\", line 1012, in structured_traceback\n",
      "    return VerboseTB.structured_traceback(\n",
      "  File \"/home/hrren/miniconda3/envs/pyg/lib/python3.9/site-packages/IPython/core/ultratb.py\", line 865, in structured_traceback\n",
      "    formatted_exception = self.format_exception_as_a_whole(etype, evalue, etb, number_of_lines_of_context,\n",
      "  File \"/home/hrren/miniconda3/envs/pyg/lib/python3.9/site-packages/IPython/core/ultratb.py\", line 799, in format_exception_as_a_whole\n",
      "    self.get_records(etb, number_of_lines_of_context, tb_offset) if etb else []\n",
      "  File \"/home/hrren/miniconda3/envs/pyg/lib/python3.9/site-packages/IPython/core/ultratb.py\", line 845, in get_records\n",
      "    style = stack_data.style_with_executing_node(style, self._tb_highlight)\n",
      "  File \"/home/hrren/miniconda3/envs/pyg/lib/python3.9/site-packages/stack_data/core.py\", line 424, in style_with_executing_node\n",
      "    class NewStyle(style):\n",
      "  File \"/home/hrren/miniconda3/envs/pyg/lib/python3.9/site-packages/pygments/style.py\", line 91, in __new__\n",
      "    ndef[4] = colorformat(styledef[3:])\n",
      "  File \"/home/hrren/miniconda3/envs/pyg/lib/python3.9/site-packages/pygments/style.py\", line 58, in colorformat\n",
      "    assert False, \"wrong color format %r\" % text\n",
      "AssertionError: wrong color format 'ansiyellow'\n"
     ]
    }
   ],
   "source": [
    "def plot_confusion_matrix(cm, classes, savename='cm', title='Confusion Matrix'):\n",
    "    plt.figure(figsize=(8, 6), dpi=100)\n",
    "    np.set_printoptions(precision=2)\n",
    "\n",
    "    # 在混淆矩阵中每格的概率值\n",
    "    ind_array = np.arange(len(classes))\n",
    "    x, y = np.meshgrid(ind_array, ind_array)\n",
    "    for x_val, y_val in zip(x.flatten(), y.flatten()):\n",
    "        c = cm[y_val][x_val]\n",
    "        if c > 0.001:\n",
    "            plt.text(x_val, y_val, \"%0.0f\" % (c,), color='black', fontsize=12, va='center', ha='center')\n",
    "    \n",
    "    plt.imshow(cm, interpolation='nearest', cmap=plt.cm.Blues)\n",
    "    plt.title(title, fontsize=18, pad=15)\n",
    "    plt.colorbar()\n",
    "    xlocations = np.array(range(len(classes)))\n",
    "    plt.xticks(xlocations, classes, rotation=45, fontsize=12)\n",
    "    plt.yticks(xlocations, classes, fontsize=12)\n",
    "    plt.ylabel('Actual label', fontsize=14)\n",
    "    plt.xlabel('Predicted label', fontsize=14)\n",
    "    \n",
    "    # offset the tick\n",
    "    tick_marks = np.array(range(len(classes)))\n",
    "    plt.gca().set_xticks(tick_marks + 0.5, minor=True)\n",
    "    plt.gca().set_yticks(tick_marks + 0.5, minor=True)\n",
    "    plt.grid(True, which='minor', linestyle='-')\n",
    "    plt.gcf().subplots_adjust(bottom=0.2)\n",
    "    \n",
    "    # Save the figure\n",
    "    plt.savefig(f\"{savename}.png\", format='png', dpi=300, bbox_inches='tight')\n",
    "    plt.show()\n",
    "plot_confusion_matrix(cm, classes, savename='confusion_matrix', title='Confusion Matrix')"
   ]
  },
  {
   "cell_type": "code",
   "execution_count": 30,
   "metadata": {},
   "outputs": [
    {
     "name": "stdout",
     "output_type": "stream",
     "text": [
      "Unexpected exception formatting exception. Falling back to standard exception\n"
     ]
    },
    {
     "name": "stderr",
     "output_type": "stream",
     "text": [
      "Traceback (most recent call last):\n",
      "  File \"/home/hrren/miniconda3/envs/pyg/lib/python3.9/site-packages/IPython/core/interactiveshell.py\", line 3460, in run_code\n",
      "    exec(code_obj, self.user_global_ns, self.user_ns)\n",
      "  File \"/tmp/ipykernel_2380654/1717426045.py\", line 2, in <module>\n",
      "    plot_confusion_matrix(cm)\n",
      "NameError: name 'cm' is not defined\n",
      "\n",
      "During handling of the above exception, another exception occurred:\n",
      "\n",
      "Traceback (most recent call last):\n",
      "  File \"/home/hrren/miniconda3/envs/pyg/lib/python3.9/site-packages/IPython/core/interactiveshell.py\", line 2057, in showtraceback\n",
      "    stb = self.InteractiveTB.structured_traceback(\n",
      "  File \"/home/hrren/miniconda3/envs/pyg/lib/python3.9/site-packages/IPython/core/ultratb.py\", line 1118, in structured_traceback\n",
      "    return FormattedTB.structured_traceback(\n",
      "  File \"/home/hrren/miniconda3/envs/pyg/lib/python3.9/site-packages/IPython/core/ultratb.py\", line 1012, in structured_traceback\n",
      "    return VerboseTB.structured_traceback(\n",
      "  File \"/home/hrren/miniconda3/envs/pyg/lib/python3.9/site-packages/IPython/core/ultratb.py\", line 865, in structured_traceback\n",
      "    formatted_exception = self.format_exception_as_a_whole(etype, evalue, etb, number_of_lines_of_context,\n",
      "  File \"/home/hrren/miniconda3/envs/pyg/lib/python3.9/site-packages/IPython/core/ultratb.py\", line 799, in format_exception_as_a_whole\n",
      "    self.get_records(etb, number_of_lines_of_context, tb_offset) if etb else []\n",
      "  File \"/home/hrren/miniconda3/envs/pyg/lib/python3.9/site-packages/IPython/core/ultratb.py\", line 845, in get_records\n",
      "    style = stack_data.style_with_executing_node(style, self._tb_highlight)\n",
      "  File \"/home/hrren/miniconda3/envs/pyg/lib/python3.9/site-packages/stack_data/core.py\", line 424, in style_with_executing_node\n",
      "    class NewStyle(style):\n",
      "  File \"/home/hrren/miniconda3/envs/pyg/lib/python3.9/site-packages/pygments/style.py\", line 91, in __new__\n",
      "    ndef[4] = colorformat(styledef[3:])\n",
      "  File \"/home/hrren/miniconda3/envs/pyg/lib/python3.9/site-packages/pygments/style.py\", line 58, in colorformat\n",
      "    assert False, \"wrong color format %r\" % text\n",
      "AssertionError: wrong color format 'ansiyellow'\n"
     ]
    }
   ],
   "source": [
    "classes = ['notinterction', 'intrection']\n",
    "plot_confusion_matrix(cm)"
   ]
  },
  {
   "cell_type": "code",
   "execution_count": 31,
   "metadata": {},
   "outputs": [
    {
     "data": {
      "text/plain": [
       "Text(0.5, 0, 'Epoch')"
      ]
     },
     "execution_count": 31,
     "metadata": {},
     "output_type": "execute_result"
    },
    {
     "data": {
      "image/png": "[encoded data removed]",
      "text/plain": [
       "<Figure size 640x480 with 1 Axes>"
      ]
     },
     "metadata": {},
     "output_type": "display_data"
    }
   ],
   "source": [
    "plt.plot(train_loss_list)\n",
    "plt.title('Training loss curve', fontsize=18, weight='roman')\n",
    "plt.ylabel('Train loss', fontsize=14,labelpad=15, weight='roman')\n",
    "plt.xlabel('Epoch', fontsize=14,labelpad=15, weight='roman')\n",
    "# plt.savefig(osp.join(plt_dir, 'loss_curve.png'))"
   ]
  },
  {
   "cell_type": "code",
   "execution_count": 32,
   "metadata": {},
   "outputs": [
    {
     "data": {
      "text/plain": [
       "(1873, 49279)"
      ]
     },
     "execution_count": 32,
     "metadata": {},
     "output_type": "execute_result"
    }
   ],
   "source": [
    "node_tf_ID = df['TF'].unique().tolist()\n",
    "TFnode_2_ID_dict = {node:ind for ind, node in enumerate(node_tf_ID)}\n",
    "json_TFnode_map = osp.join(root_dir, 'TF_node_mapping_dict.pkl')\n",
    "json.dump(TFnode_2_ID_dict, open(json_TFnode_map, 'w'), indent=4, sort_keys=False, ensure_ascii=False)\n",
    "node_target_ID = df['Target'].unique().tolist()\n",
    "target_node_2_ID_dict  = {node:ind for ind, node in enumerate(node_target_ID)}\n",
    "json_targetnode_map = osp.join(root_dir, 'target_node_mapping_dict.pkl')\n",
    "json.dump(target_node_2_ID_dict, open(json_targetnode_map, 'w'), indent=4, sort_keys=False, ensure_ascii=False)\n",
    "len(TFnode_2_ID_dict), len(target_node_2_ID_dict)"
   ]
  },
  {
   "cell_type": "code",
   "execution_count": null,
   "metadata": {},
   "outputs": [],
   "source": [
    "test_rows = combined_data[combined_data['training'] == 'test']"
   ]
  }
 ],
 "metadata": {
  "kernelspec": {
   "display_name": "pyg",
   "language": "python",
   "name": "python3"
  },
  "language_info": {
   "codemirror_mode": {
    "name": "ipython",
    "version": 3
   },
   "file_extension": ".py",
   "mimetype": "text/x-python",
   "name": "python",
   "nbconvert_exporter": "python",
   "pygments_lexer": "ipython3",
   "version": "3.9.7"
  }
 },
 "nbformat": 4,
 "nbformat_minor": 2
}
